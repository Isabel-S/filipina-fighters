{
 "cells": [
  {
   "cell_type": "code",
   "execution_count": 1,
   "id": "6ec81f8b",
   "metadata": {},
   "outputs": [
    {
     "name": "stdout",
     "output_type": "stream",
     "text": [
      "\u001b[33mDEPRECATION: Configuring installation scheme with distutils config files is deprecated and will no longer work in the near future. If you are using a Homebrew or Linuxbrew Python, please see discussion at https://github.com/Homebrew/homebrew-core/issues/76621\u001b[0m\u001b[33m\n",
      "\u001b[0mRequirement already satisfied: pandas in /opt/homebrew/lib/python3.9/site-packages (2.0.3)\n",
      "Requirement already satisfied: pytz>=2020.1 in /opt/homebrew/lib/python3.9/site-packages (from pandas) (2023.3)\n",
      "Requirement already satisfied: tzdata>=2022.1 in /opt/homebrew/lib/python3.9/site-packages (from pandas) (2023.3)\n",
      "Requirement already satisfied: python-dateutil>=2.8.2 in /opt/homebrew/lib/python3.9/site-packages (from pandas) (2.8.2)\n",
      "Requirement already satisfied: numpy>=1.20.3 in /opt/homebrew/lib/python3.9/site-packages (from pandas) (1.22.3)\n",
      "Requirement already satisfied: six>=1.5 in /opt/homebrew/lib/python3.9/site-packages (from python-dateutil>=2.8.2->pandas) (1.16.0)\n",
      "\u001b[33mDEPRECATION: Configuring installation scheme with distutils config files is deprecated and will no longer work in the near future. If you are using a Homebrew or Linuxbrew Python, please see discussion at https://github.com/Homebrew/homebrew-core/issues/76621\u001b[0m\u001b[33m\n",
      "\u001b[0mNote: you may need to restart the kernel to use updated packages.\n"
     ]
    }
   ],
   "source": [
    "pip install pandas"
   ]
  },
  {
   "cell_type": "code",
   "execution_count": 2,
   "id": "0e2d61ef",
   "metadata": {},
   "outputs": [
    {
     "name": "stdout",
     "output_type": "stream",
     "text": [
      "\u001b[33mDEPRECATION: Configuring installation scheme with distutils config files is deprecated and will no longer work in the near future. If you are using a Homebrew or Linuxbrew Python, please see discussion at https://github.com/Homebrew/homebrew-core/issues/76621\u001b[0m\u001b[33m\n",
      "\u001b[0mRequirement already satisfied: scikit-learn in /opt/homebrew/lib/python3.9/site-packages (1.3.0)\n",
      "Requirement already satisfied: scipy>=1.5.0 in /opt/homebrew/lib/python3.9/site-packages (from scikit-learn) (1.11.1)\n",
      "Requirement already satisfied: threadpoolctl>=2.0.0 in /opt/homebrew/lib/python3.9/site-packages (from scikit-learn) (3.2.0)\n",
      "Requirement already satisfied: joblib>=1.1.1 in /opt/homebrew/lib/python3.9/site-packages (from scikit-learn) (1.2.0)\n",
      "Requirement already satisfied: numpy>=1.17.3 in /opt/homebrew/lib/python3.9/site-packages (from scikit-learn) (1.22.3)\n",
      "\u001b[33mDEPRECATION: Configuring installation scheme with distutils config files is deprecated and will no longer work in the near future. If you are using a Homebrew or Linuxbrew Python, please see discussion at https://github.com/Homebrew/homebrew-core/issues/76621\u001b[0m\u001b[33m\n",
      "\u001b[0mNote: you may need to restart the kernel to use updated packages.\n"
     ]
    }
   ],
   "source": [
    "pip install scikit-learn"
   ]
  },
  {
   "cell_type": "code",
   "execution_count": 3,
   "id": "1db5e0b5",
   "metadata": {},
   "outputs": [
    {
     "name": "stderr",
     "output_type": "stream",
     "text": [
      "[nltk_data] Downloading package stopwords to\n",
      "[nltk_data]     /Users/isabelsieh/nltk_data...\n",
      "[nltk_data]   Package stopwords is already up-to-date!\n"
     ]
    }
   ],
   "source": [
    "import pandas as pd\n",
    "import json\n",
    "import re\n",
    "import nltk\n",
    "nltk.download('stopwords') \n",
    "from nltk.corpus import stopwords"
   ]
  },
  {
   "cell_type": "code",
   "execution_count": 4,
   "id": "12c4a50f",
   "metadata": {},
   "outputs": [],
   "source": [
    "# import data\n",
    "single_matrix = pd.read_json('../nlp/ranada_all.json')"
   ]
  },
  {
   "cell_type": "code",
   "execution_count": 5,
   "id": "afe183b3",
   "metadata": {},
   "outputs": [],
   "source": [
    "# clean data\n",
    "\n",
    "# remove punctuation marks, symbols, stop words and digits\n",
    "single_matrix['new_text'] = [re.findall(r'\\w+', i.lower()) for i in single_matrix['text'].fillna('NONE')]"
   ]
  },
  {
   "cell_type": "code",
   "execution_count": 6,
   "id": "2b822256",
   "metadata": {},
   "outputs": [],
   "source": [
    "# remove stopwords\n",
    "stopwords = stopwords.words('english')\n",
    "stopwords += open(\"../nlp/stopwords-tl.txt\").read().splitlines()\n",
    "\n",
    "new_texts = []\n",
    "for text in single_matrix['new_text']:\n",
    "    new_text = []\n",
    "    for word in text:\n",
    "        if word not in stopwords and not word.isdigit():\n",
    "            new_text.append(word)\n",
    "    \n",
    "    new_texts.append(new_text) \n",
    "    \n",
    "single_matrix['new_text'] = new_texts"
   ]
  },
  {
   "cell_type": "code",
   "execution_count": 7,
   "id": "982c9c03",
   "metadata": {},
   "outputs": [
    {
     "name": "stderr",
     "output_type": "stream",
     "text": [
      "[nltk_data] Downloading package wordnet to\n",
      "[nltk_data]     /Users/isabelsieh/nltk_data...\n",
      "[nltk_data]   Package wordnet is already up-to-date!\n",
      "[nltk_data] Downloading package words to\n",
      "[nltk_data]     /Users/isabelsieh/nltk_data...\n",
      "[nltk_data]   Package words is already up-to-date!\n"
     ]
    }
   ],
   "source": [
    "# lemmatise words in the sentences\n",
    "nltk.download('wordnet')\n",
    "nltk.download('words')\n",
    "from nltk.stem import WordNetLemmatizer\n",
    "wordnet_lemmatizer = WordNetLemmatizer()\n",
    "new_texts = []\n",
    "for text in single_matrix['new_text']:\n",
    "    new_text = []\n",
    "    for word in text:\n",
    "        new_text.append(wordnet_lemmatizer.lemmatize(word, pos=\"v\"))\n",
    "    new_texts.append(new_text) \n",
    "    \n",
    "single_matrix['new_text'] = new_texts\n",
    "single_matrix['new_text'] = [' '.join(i) for i in single_matrix['new_text']]"
   ]
  },
  {
   "cell_type": "code",
   "execution_count": 8,
   "id": "4e5b2f94",
   "metadata": {},
   "outputs": [
    {
     "data": {
      "text/html": [
       "<div>\n",
       "<style scoped>\n",
       "    .dataframe tbody tr th:only-of-type {\n",
       "        vertical-align: middle;\n",
       "    }\n",
       "\n",
       "    .dataframe tbody tr th {\n",
       "        vertical-align: top;\n",
       "    }\n",
       "\n",
       "    .dataframe thead th {\n",
       "        text-align: right;\n",
       "    }\n",
       "</style>\n",
       "<table border=\"1\" class=\"dataframe\">\n",
       "  <thead>\n",
       "    <tr style=\"text-align: right;\">\n",
       "      <th></th>\n",
       "      <th>text</th>\n",
       "      <th>user</th>\n",
       "      <th>new_text</th>\n",
       "    </tr>\n",
       "  </thead>\n",
       "  <tbody>\n",
       "    <tr>\n",
       "      <th>0</th>\n",
       "      <td></td>\n",
       "      <td>james.ranada.9</td>\n",
       "      <td></td>\n",
       "    </tr>\n",
       "    <tr>\n",
       "      <th>1</th>\n",
       "      <td>AN OPEN LETTER TO Dear Ma’am Pia, I am writing...</td>\n",
       "      <td>malcolm.conlan.full</td>\n",
       "      <td>open letter dear pia write concern unusual int...</td>\n",
       "    </tr>\n",
       "    <tr>\n",
       "      <th>2</th>\n",
       "      <td>IN OTHER WORDS, HINDI KAYO MEDIA So eto nga an...</td>\n",
       "      <td>reyna.elena.73</td>\n",
       "      <td>word kayo media eto nga chika nag renew nang a...</td>\n",
       "    </tr>\n",
       "    <tr>\n",
       "      <th>3</th>\n",
       "      <td>Kaw naman</td>\n",
       "      <td>Mochablogger</td>\n",
       "      <td>kaw naman</td>\n",
       "    </tr>\n",
       "    <tr>\n",
       "      <th>4</th>\n",
       "      <td>Ms. Pia Ranada para sa kaalaman mo po dahil hi...</td>\n",
       "      <td>Mochablogger</td>\n",
       "      <td>ms pia ranada kaalaman mo po mo ugaling mag re...</td>\n",
       "    </tr>\n",
       "    <tr>\n",
       "      <th>...</th>\n",
       "      <td>...</td>\n",
       "      <td>...</td>\n",
       "      <td>...</td>\n",
       "    </tr>\n",
       "    <tr>\n",
       "      <th>36815</th>\n",
       "      <td>PIA RANADA NG RAPPLER, LISTEN...at doon na rin...</td>\n",
       "      <td>erwintulforeal</td>\n",
       "      <td>pia ranada rappler listen rin nag aangas amgas...</td>\n",
       "    </tr>\n",
       "    <tr>\n",
       "      <th>36816</th>\n",
       "      <td>LIVE: Catching up with Isko Moreno at Rappler’...</td>\n",
       "      <td>rapplerdotcom</td>\n",
       "      <td>live catch isko moreno rappler hq pia ranada c...</td>\n",
       "    </tr>\n",
       "    <tr>\n",
       "      <th>36817</th>\n",
       "      <td>RAPPLER PIA RANADA VS. USEC. BADOY- CREDIBILIT...</td>\n",
       "      <td>100071594142615</td>\n",
       "      <td>rappler pia ranada vs usec badoy credibility c...</td>\n",
       "    </tr>\n",
       "    <tr>\n",
       "      <th>36818</th>\n",
       "      <td>PIA RANADA, NA BURN!!! BURN TO HELL!!!\\nSPO4 P...</td>\n",
       "      <td>DugongMaharlikaOfficialPage</td>\n",
       "      <td>pia ranada burn burn hell spo4 pia ranada nasu...</td>\n",
       "    </tr>\n",
       "    <tr>\n",
       "      <th>36819</th>\n",
       "      <td>NAKAKAGULAT! SEC.TUGADE HARAP-HARAPANG PINAHIY...</td>\n",
       "      <td>tonymontibon</td>\n",
       "      <td>nakakagulat sec tugade harap harapang pinahiya...</td>\n",
       "    </tr>\n",
       "  </tbody>\n",
       "</table>\n",
       "<p>36820 rows × 3 columns</p>\n",
       "</div>"
      ],
      "text/plain": [
       "                                                    text  \\\n",
       "0                                                          \n",
       "1      AN OPEN LETTER TO Dear Ma’am Pia, I am writing...   \n",
       "2      IN OTHER WORDS, HINDI KAYO MEDIA So eto nga an...   \n",
       "3                                             Kaw naman    \n",
       "4      Ms. Pia Ranada para sa kaalaman mo po dahil hi...   \n",
       "...                                                  ...   \n",
       "36815  PIA RANADA NG RAPPLER, LISTEN...at doon na rin...   \n",
       "36816  LIVE: Catching up with Isko Moreno at Rappler’...   \n",
       "36817  RAPPLER PIA RANADA VS. USEC. BADOY- CREDIBILIT...   \n",
       "36818  PIA RANADA, NA BURN!!! BURN TO HELL!!!\\nSPO4 P...   \n",
       "36819  NAKAKAGULAT! SEC.TUGADE HARAP-HARAPANG PINAHIY...   \n",
       "\n",
       "                              user  \\\n",
       "0                   james.ranada.9   \n",
       "1              malcolm.conlan.full   \n",
       "2                   reyna.elena.73   \n",
       "3                     Mochablogger   \n",
       "4                     Mochablogger   \n",
       "...                            ...   \n",
       "36815               erwintulforeal   \n",
       "36816                rapplerdotcom   \n",
       "36817              100071594142615   \n",
       "36818  DugongMaharlikaOfficialPage   \n",
       "36819                 tonymontibon   \n",
       "\n",
       "                                                new_text  \n",
       "0                                                         \n",
       "1      open letter dear pia write concern unusual int...  \n",
       "2      word kayo media eto nga chika nag renew nang a...  \n",
       "3                                              kaw naman  \n",
       "4      ms pia ranada kaalaman mo po mo ugaling mag re...  \n",
       "...                                                  ...  \n",
       "36815  pia ranada rappler listen rin nag aangas amgas...  \n",
       "36816  live catch isko moreno rappler hq pia ranada c...  \n",
       "36817  rappler pia ranada vs usec badoy credibility c...  \n",
       "36818  pia ranada burn burn hell spo4 pia ranada nasu...  \n",
       "36819  nakakagulat sec tugade harap harapang pinahiya...  \n",
       "\n",
       "[36820 rows x 3 columns]"
      ]
     },
     "execution_count": 8,
     "metadata": {},
     "output_type": "execute_result"
    }
   ],
   "source": [
    "single_matrix"
   ]
  },
  {
   "cell_type": "code",
   "execution_count": 9,
   "id": "850733d4",
   "metadata": {},
   "outputs": [],
   "source": [
    "# vectorize text by tfid\n",
    "from sklearn.feature_extraction.text import TfidfVectorizer\n",
    "\n",
    "tf = TfidfVectorizer(analyzer='word', ngram_range=(1, 3), min_df=0.0)\n",
    "tfidf_matrices = []\n",
    "data_sets = []\n",
    "source_data = single_matrix\n",
    "data_sets.append(source_data['new_text'])\n",
    "tfidf_matrices.append(tf.fit_transform(source_data['new_text']))"
   ]
  },
  {
   "cell_type": "code",
   "execution_count": 10,
   "id": "a66df543",
   "metadata": {},
   "outputs": [],
   "source": [
    "# calculate pairwise cosine similarities\n",
    "from sklearn.metrics.pairwise import linear_kernel\n",
    "matrix_with_cos_sim = []\n",
    "for m in tfidf_matrices:\n",
    "    matrix_with_cos_sim.append(linear_kernel(m, m))"
   ]
  },
  {
   "cell_type": "code",
   "execution_count": 11,
   "id": "c5b59dcf",
   "metadata": {},
   "outputs": [
    {
     "name": "stderr",
     "output_type": "stream",
     "text": [
      "100%|██████████████████████████████████████████████████████████████████████████████████████████████████████████████████████████████████████████████████▉| 36819/36820 [00:51<00:00, 716.90it/s]\n"
     ]
    }
   ],
   "source": [
    "# group similar sentences using network graphs\n",
    "import numpy as np\n",
    "from tqdm import trange\n",
    "top_n_sentences = []\n",
    "for cs, t in zip(matrix_with_cos_sim, data_sets):\n",
    "    no_dups = np.array(t)\n",
    "    i = 0\n",
    "    top_frame = []\n",
    "    for c, z in zip(cs, trange(len(cs))):\n",
    "        # Create vector of titles\n",
    "        start_name = pd.Series([no_dups[i]]*15) \n",
    "        # Index of top 15 similar titles\n",
    "        ix_top_n = np.argsort(-c)[0:15]\n",
    "        cos_sim = pd.Series(c[ix_top_n])\n",
    "        names = pd.Series(no_dups[ix_top_n])\n",
    "        i +=1\n",
    "        top_frame.append(pd.DataFrame([start_name, names, cos_sim]).transpose())\n",
    "    \n",
    "    top_frame = pd.concat(top_frame)\n",
    "    top_frame.columns = ['text1', 'text2', 'cos_sim']\n",
    "    # Remove the similarities for the same sentences\n",
    "    top_frame['is_same'] = [bool(i==j) for i, j in zip(top_frame['text1'], top_frame['text2'])]\n",
    "    top_frame = top_frame[top_frame['is_same'] != True]\n",
    "        \n",
    "    top_n_sentences.append(top_frame)"
   ]
  },
  {
   "cell_type": "code",
   "execution_count": 12,
   "id": "030d2056",
   "metadata": {},
   "outputs": [
    {
     "data": {
      "text/html": [
       "<div>\n",
       "<style scoped>\n",
       "    .dataframe tbody tr th:only-of-type {\n",
       "        vertical-align: middle;\n",
       "    }\n",
       "\n",
       "    .dataframe tbody tr th {\n",
       "        vertical-align: top;\n",
       "    }\n",
       "\n",
       "    .dataframe thead th {\n",
       "        text-align: right;\n",
       "    }\n",
       "</style>\n",
       "<table border=\"1\" class=\"dataframe\">\n",
       "  <thead>\n",
       "    <tr style=\"text-align: right;\">\n",
       "      <th></th>\n",
       "      <th>text1</th>\n",
       "      <th>text2</th>\n",
       "      <th>cos_sim</th>\n",
       "      <th>is_same</th>\n",
       "    </tr>\n",
       "  </thead>\n",
       "  <tbody>\n",
       "    <tr>\n",
       "      <th>1</th>\n",
       "      <td></td>\n",
       "      <td>bobo kaba mo alam bias simple lang bias kayo r...</td>\n",
       "      <td>0.0</td>\n",
       "      <td>False</td>\n",
       "    </tr>\n",
       "    <tr>\n",
       "      <th>2</th>\n",
       "      <td></td>\n",
       "      <td>rappler nakakasira lipunan</td>\n",
       "      <td>0.0</td>\n",
       "      <td>False</td>\n",
       "    </tr>\n",
       "    <tr>\n",
       "      <th>3</th>\n",
       "      <td></td>\n",
       "      <td>karapatan pangulo tumanggi ayaw nya</td>\n",
       "      <td>0.0</td>\n",
       "      <td>False</td>\n",
       "    </tr>\n",
       "    <tr>\n",
       "      <th>4</th>\n",
       "      <td></td>\n",
       "      <td>pia maritis</td>\n",
       "      <td>0.0</td>\n",
       "      <td>False</td>\n",
       "    </tr>\n",
       "    <tr>\n",
       "      <th>5</th>\n",
       "      <td></td>\n",
       "      <td>idol raffy supalpal c bias</td>\n",
       "      <td>0.0</td>\n",
       "      <td>False</td>\n",
       "    </tr>\n",
       "    <tr>\n",
       "      <th>...</th>\n",
       "      <td>...</td>\n",
       "      <td>...</td>\n",
       "      <td>...</td>\n",
       "      <td>...</td>\n",
       "    </tr>\n",
       "    <tr>\n",
       "      <th>10</th>\n",
       "      <td>nakakagulat sec tugade harap harapang pinahiya...</td>\n",
       "      <td>pia ranada</td>\n",
       "      <td>0.119331</td>\n",
       "      <td>False</td>\n",
       "    </tr>\n",
       "    <tr>\n",
       "      <th>11</th>\n",
       "      <td>nakakagulat sec tugade harap harapang pinahiya...</td>\n",
       "      <td>pia ranada</td>\n",
       "      <td>0.119331</td>\n",
       "      <td>False</td>\n",
       "    </tr>\n",
       "    <tr>\n",
       "      <th>12</th>\n",
       "      <td>nakakagulat sec tugade harap harapang pinahiya...</td>\n",
       "      <td>pia ranada</td>\n",
       "      <td>0.119331</td>\n",
       "      <td>False</td>\n",
       "    </tr>\n",
       "    <tr>\n",
       "      <th>13</th>\n",
       "      <td>nakakagulat sec tugade harap harapang pinahiya...</td>\n",
       "      <td>pia ranada</td>\n",
       "      <td>0.119331</td>\n",
       "      <td>False</td>\n",
       "    </tr>\n",
       "    <tr>\n",
       "      <th>14</th>\n",
       "      <td>nakakagulat sec tugade harap harapang pinahiya...</td>\n",
       "      <td>pia ranada</td>\n",
       "      <td>0.119331</td>\n",
       "      <td>False</td>\n",
       "    </tr>\n",
       "  </tbody>\n",
       "</table>\n",
       "<p>497301 rows × 4 columns</p>\n",
       "</div>"
      ],
      "text/plain": [
       "                                                text1  \\\n",
       "1                                                       \n",
       "2                                                       \n",
       "3                                                       \n",
       "4                                                       \n",
       "5                                                       \n",
       "..                                                ...   \n",
       "10  nakakagulat sec tugade harap harapang pinahiya...   \n",
       "11  nakakagulat sec tugade harap harapang pinahiya...   \n",
       "12  nakakagulat sec tugade harap harapang pinahiya...   \n",
       "13  nakakagulat sec tugade harap harapang pinahiya...   \n",
       "14  nakakagulat sec tugade harap harapang pinahiya...   \n",
       "\n",
       "                                                text2   cos_sim  is_same  \n",
       "1   bobo kaba mo alam bias simple lang bias kayo r...       0.0    False  \n",
       "2                          rappler nakakasira lipunan       0.0    False  \n",
       "3                 karapatan pangulo tumanggi ayaw nya       0.0    False  \n",
       "4                                         pia maritis       0.0    False  \n",
       "5                          idol raffy supalpal c bias       0.0    False  \n",
       "..                                                ...       ...      ...  \n",
       "10                                         pia ranada  0.119331    False  \n",
       "11                                         pia ranada  0.119331    False  \n",
       "12                                         pia ranada  0.119331    False  \n",
       "13                                         pia ranada  0.119331    False  \n",
       "14                                         pia ranada  0.119331    False  \n",
       "\n",
       "[497301 rows x 4 columns]"
      ]
     },
     "execution_count": 12,
     "metadata": {},
     "output_type": "execute_result"
    }
   ],
   "source": [
    "top_n_sentences[0]"
   ]
  },
  {
   "cell_type": "code",
   "execution_count": 13,
   "id": "182ca90b",
   "metadata": {},
   "outputs": [],
   "source": [
    "# We start by defining the structure of the graph\n",
    "top_frame = top_n_sentences[0] \n",
    "edges = list(zip(top_frame['text1'], top_frame['text2']))\n",
    "weighted_edges = list(zip(top_frame['text1'], top_frame['text2'], top_frame['cos_sim']))\n",
    "nodes = list(set(top_frame['text1']).union(set(top_frame['text2'])))"
   ]
  },
  {
   "cell_type": "code",
   "execution_count": 14,
   "id": "6a6fddd9",
   "metadata": {},
   "outputs": [
    {
     "name": "stdout",
     "output_type": "stream",
     "text": [
      "\u001b[33mDEPRECATION: Configuring installation scheme with distutils config files is deprecated and will no longer work in the near future. If you are using a Homebrew or Linuxbrew Python, please see discussion at https://github.com/Homebrew/homebrew-core/issues/76621\u001b[0m\u001b[33m\n",
      "\u001b[0mRequirement already satisfied: networkx in /opt/homebrew/lib/python3.9/site-packages (3.1)\n",
      "\u001b[33mDEPRECATION: Configuring installation scheme with distutils config files is deprecated and will no longer work in the near future. If you are using a Homebrew or Linuxbrew Python, please see discussion at https://github.com/Homebrew/homebrew-core/issues/76621\u001b[0m\u001b[33m\n",
      "\u001b[0mNote: you may need to restart the kernel to use updated packages.\n"
     ]
    }
   ],
   "source": [
    "pip install networkx"
   ]
  },
  {
   "cell_type": "code",
   "execution_count": 15,
   "id": "6839f8c9",
   "metadata": {},
   "outputs": [],
   "source": [
    "# make network\n",
    "import networkx as nx\n",
    "G = nx.Graph()\n",
    "G.add_nodes_from(nodes)\n",
    "G.add_edges_from(edges)\n",
    "G.add_weighted_edges_from(weighted_edges)"
   ]
  },
  {
   "cell_type": "code",
   "execution_count": 16,
   "id": "a8c37a25",
   "metadata": {},
   "outputs": [
    {
     "name": "stdout",
     "output_type": "stream",
     "text": [
      "Requirement already satisfied: python-louvain in /Users/isabelsieh/.local/share/virtualenvs/filipina-fighters-WQDmgqCv/lib/python3.10/site-packages (0.16)\r\n",
      "Requirement already satisfied: networkx in /Users/isabelsieh/.local/share/virtualenvs/filipina-fighters-WQDmgqCv/lib/python3.10/site-packages (from python-louvain) (3.1)\r\n",
      "Requirement already satisfied: numpy in /Users/isabelsieh/.local/share/virtualenvs/filipina-fighters-WQDmgqCv/lib/python3.10/site-packages (from python-louvain) (1.25.0)\r\n"
     ]
    }
   ],
   "source": [
    "!pip install python-louvain"
   ]
  },
  {
   "cell_type": "code",
   "execution_count": 17,
   "id": "67d77d22",
   "metadata": {},
   "outputs": [],
   "source": [
    "import community\n",
    "partition = community.best_partition(G)\n",
    "modularity = community.modularity(partition, G)"
   ]
  },
  {
   "cell_type": "code",
   "execution_count": 18,
   "id": "3227decc",
   "metadata": {},
   "outputs": [],
   "source": [
    "# Takes some time for larger graphs\n",
    "import matplotlib.pyplot as plt"
   ]
  },
  {
   "cell_type": "code",
   "execution_count": 24,
   "id": "73b77cba",
   "metadata": {},
   "outputs": [
    {
     "data": {
      "text/plain": [
       "<networkx.classes.graph.Graph at 0x12d4d1970>"
      ]
     },
     "execution_count": 24,
     "metadata": {},
     "output_type": "execute_result"
    }
   ],
   "source": [
    "G"
   ]
  },
  {
   "cell_type": "code",
   "execution_count": 25,
   "id": "b0ee06cf",
   "metadata": {},
   "outputs": [],
   "source": [
    "pos = nx.spring_layout(G, dim=2)"
   ]
  },
  {
   "cell_type": "code",
   "execution_count": null,
   "id": "512575f4",
   "metadata": {},
   "outputs": [],
   "source": [
    "pos2 = nx.kamada_kawai_layout(G)"
   ]
  },
  {
   "cell_type": "code",
   "execution_count": 26,
   "id": "0ef2b43d",
   "metadata": {},
   "outputs": [],
   "source": [
    "community_id = [partition[node] for node in G.nodes()]"
   ]
  },
  {
   "cell_type": "code",
   "execution_count": 27,
   "id": "af6ca038",
   "metadata": {},
   "outputs": [
    {
     "data": {
      "text/plain": [
       "<Figure size 1000x1000 with 0 Axes>"
      ]
     },
     "metadata": {},
     "output_type": "display_data"
    }
   ],
   "source": [
    "fig = plt.figure(figsize=(10,10))"
   ]
  },
  {
   "cell_type": "code",
   "execution_count": 34,
   "id": "32198d7d",
   "metadata": {},
   "outputs": [
    {
     "ename": "KeyboardInterrupt",
     "evalue": "",
     "output_type": "error",
     "traceback": [
      "\u001b[0;31m---------------------------------------------------------------------------\u001b[0m",
      "\u001b[0;31mKeyboardInterrupt\u001b[0m                         Traceback (most recent call last)",
      "Cell \u001b[0;32mIn [34], line 1\u001b[0m\n\u001b[0;32m----> 1\u001b[0m \u001b[43mnx\u001b[49m\u001b[38;5;241;43m.\u001b[39;49m\u001b[43mdraw\u001b[49m\u001b[43m(\u001b[49m\u001b[43mG\u001b[49m\u001b[43m,\u001b[49m\u001b[43m \u001b[49m\u001b[43medge_color\u001b[49m\u001b[43m \u001b[49m\u001b[38;5;241;43m=\u001b[39;49m\u001b[43m \u001b[49m\u001b[43m[\u001b[49m\u001b[38;5;124;43m'\u001b[39;49m\u001b[38;5;124;43msilver\u001b[39;49m\u001b[38;5;124;43m'\u001b[39;49m\u001b[43m]\u001b[49m\u001b[38;5;241;43m*\u001b[39;49m\u001b[38;5;28;43mlen\u001b[39;49m\u001b[43m(\u001b[49m\u001b[43mG\u001b[49m\u001b[38;5;241;43m.\u001b[39;49m\u001b[43medges\u001b[49m\u001b[43m(\u001b[49m\u001b[43m)\u001b[49m\u001b[43m)\u001b[49m\u001b[43m,\u001b[49m\u001b[43m \u001b[49m\u001b[43mcmap\u001b[49m\u001b[38;5;241;43m=\u001b[39;49m\u001b[43mplt\u001b[49m\u001b[38;5;241;43m.\u001b[39;49m\u001b[43mcm\u001b[49m\u001b[38;5;241;43m.\u001b[39;49m\u001b[43mtab20\u001b[49m\u001b[43m,\u001b[49m\u001b[43m \u001b[49m\u001b[43mnode_color\u001b[49m\u001b[38;5;241;43m=\u001b[39;49m\u001b[43mcommunity_id\u001b[49m\u001b[43m,\u001b[49m\u001b[43m \u001b[49m\u001b[43mnode_size\u001b[49m\u001b[38;5;241;43m=\u001b[39;49m\u001b[38;5;241;43m10\u001b[39;49m\u001b[43m)\u001b[49m\n",
      "File \u001b[0;32m/opt/homebrew/lib/python3.9/site-packages/networkx/drawing/nx_pylab.py:121\u001b[0m, in \u001b[0;36mdraw\u001b[0;34m(G, pos, ax, **kwds)\u001b[0m\n\u001b[1;32m    118\u001b[0m \u001b[38;5;28;01mif\u001b[39;00m \u001b[38;5;124m\"\u001b[39m\u001b[38;5;124mwith_labels\u001b[39m\u001b[38;5;124m\"\u001b[39m \u001b[38;5;129;01mnot\u001b[39;00m \u001b[38;5;129;01min\u001b[39;00m kwds:\n\u001b[1;32m    119\u001b[0m     kwds[\u001b[38;5;124m\"\u001b[39m\u001b[38;5;124mwith_labels\u001b[39m\u001b[38;5;124m\"\u001b[39m] \u001b[38;5;241m=\u001b[39m \u001b[38;5;124m\"\u001b[39m\u001b[38;5;124mlabels\u001b[39m\u001b[38;5;124m\"\u001b[39m \u001b[38;5;129;01min\u001b[39;00m kwds\n\u001b[0;32m--> 121\u001b[0m \u001b[43mdraw_networkx\u001b[49m\u001b[43m(\u001b[49m\u001b[43mG\u001b[49m\u001b[43m,\u001b[49m\u001b[43m \u001b[49m\u001b[43mpos\u001b[49m\u001b[38;5;241;43m=\u001b[39;49m\u001b[43mpos\u001b[49m\u001b[43m,\u001b[49m\u001b[43m \u001b[49m\u001b[43max\u001b[49m\u001b[38;5;241;43m=\u001b[39;49m\u001b[43max\u001b[49m\u001b[43m,\u001b[49m\u001b[43m \u001b[49m\u001b[38;5;241;43m*\u001b[39;49m\u001b[38;5;241;43m*\u001b[39;49m\u001b[43mkwds\u001b[49m\u001b[43m)\u001b[49m\n\u001b[1;32m    122\u001b[0m ax\u001b[38;5;241m.\u001b[39mset_axis_off()\n\u001b[1;32m    123\u001b[0m plt\u001b[38;5;241m.\u001b[39mdraw_if_interactive()\n",
      "File \u001b[0;32m/opt/homebrew/lib/python3.9/site-packages/networkx/drawing/nx_pylab.py:301\u001b[0m, in \u001b[0;36mdraw_networkx\u001b[0;34m(G, pos, arrows, with_labels, **kwds)\u001b[0m\n\u001b[1;32m    298\u001b[0m label_kwds \u001b[38;5;241m=\u001b[39m {k: v \u001b[38;5;28;01mfor\u001b[39;00m k, v \u001b[38;5;129;01min\u001b[39;00m kwds\u001b[38;5;241m.\u001b[39mitems() \u001b[38;5;28;01mif\u001b[39;00m k \u001b[38;5;129;01min\u001b[39;00m valid_label_kwds}\n\u001b[1;32m    300\u001b[0m \u001b[38;5;28;01mif\u001b[39;00m pos \u001b[38;5;129;01mis\u001b[39;00m \u001b[38;5;28;01mNone\u001b[39;00m:\n\u001b[0;32m--> 301\u001b[0m     pos \u001b[38;5;241m=\u001b[39m \u001b[43mnx\u001b[49m\u001b[38;5;241;43m.\u001b[39;49m\u001b[43mdrawing\u001b[49m\u001b[38;5;241;43m.\u001b[39;49m\u001b[43mspring_layout\u001b[49m\u001b[43m(\u001b[49m\u001b[43mG\u001b[49m\u001b[43m)\u001b[49m  \u001b[38;5;66;03m# default to spring layout\u001b[39;00m\n\u001b[1;32m    303\u001b[0m draw_networkx_nodes(G, pos, \u001b[38;5;241m*\u001b[39m\u001b[38;5;241m*\u001b[39mnode_kwds)\n\u001b[1;32m    304\u001b[0m draw_networkx_edges(G, pos, arrows\u001b[38;5;241m=\u001b[39marrows, \u001b[38;5;241m*\u001b[39m\u001b[38;5;241m*\u001b[39medge_kwds)\n",
      "File \u001b[0;32m<class 'networkx.utils.decorators.argmap'> compilation 4:4\u001b[0m, in \u001b[0;36margmap_spring_layout_1\u001b[0;34m(G, k, pos, fixed, iterations, threshold, weight, scale, center, dim, seed)\u001b[0m\n\u001b[1;32m      2\u001b[0m \u001b[38;5;28;01mimport\u001b[39;00m \u001b[38;5;21;01mcollections\u001b[39;00m\n\u001b[1;32m      3\u001b[0m \u001b[38;5;28;01mimport\u001b[39;00m \u001b[38;5;21;01mgzip\u001b[39;00m\n\u001b[0;32m----> 4\u001b[0m \u001b[38;5;28;01mimport\u001b[39;00m \u001b[38;5;21;01minspect\u001b[39;00m\n\u001b[1;32m      5\u001b[0m \u001b[38;5;28;01mimport\u001b[39;00m \u001b[38;5;21;01mitertools\u001b[39;00m\n\u001b[1;32m      6\u001b[0m \u001b[38;5;28;01mimport\u001b[39;00m \u001b[38;5;21;01mre\u001b[39;00m\n",
      "File \u001b[0;32m/opt/homebrew/lib/python3.9/site-packages/networkx/drawing/layout.py:482\u001b[0m, in \u001b[0;36mspring_layout\u001b[0;34m(G, k, pos, fixed, iterations, threshold, weight, scale, center, dim, seed)\u001b[0m\n\u001b[1;32m    480\u001b[0m         nnodes, _ \u001b[38;5;241m=\u001b[39m A\u001b[38;5;241m.\u001b[39mshape\n\u001b[1;32m    481\u001b[0m         k \u001b[38;5;241m=\u001b[39m dom_size \u001b[38;5;241m/\u001b[39m np\u001b[38;5;241m.\u001b[39msqrt(nnodes)\n\u001b[0;32m--> 482\u001b[0m     pos \u001b[38;5;241m=\u001b[39m \u001b[43m_sparse_fruchterman_reingold\u001b[49m\u001b[43m(\u001b[49m\n\u001b[1;32m    483\u001b[0m \u001b[43m        \u001b[49m\u001b[43mA\u001b[49m\u001b[43m,\u001b[49m\u001b[43m \u001b[49m\u001b[43mk\u001b[49m\u001b[43m,\u001b[49m\u001b[43m \u001b[49m\u001b[43mpos_arr\u001b[49m\u001b[43m,\u001b[49m\u001b[43m \u001b[49m\u001b[43mfixed\u001b[49m\u001b[43m,\u001b[49m\u001b[43m \u001b[49m\u001b[43miterations\u001b[49m\u001b[43m,\u001b[49m\u001b[43m \u001b[49m\u001b[43mthreshold\u001b[49m\u001b[43m,\u001b[49m\u001b[43m \u001b[49m\u001b[43mdim\u001b[49m\u001b[43m,\u001b[49m\u001b[43m \u001b[49m\u001b[43mseed\u001b[49m\n\u001b[1;32m    484\u001b[0m \u001b[43m    \u001b[49m\u001b[43m)\u001b[49m\n\u001b[1;32m    485\u001b[0m \u001b[38;5;28;01mexcept\u001b[39;00m \u001b[38;5;167;01mValueError\u001b[39;00m:\n\u001b[1;32m    486\u001b[0m     A \u001b[38;5;241m=\u001b[39m nx\u001b[38;5;241m.\u001b[39mto_numpy_array(G, weight\u001b[38;5;241m=\u001b[39mweight)\n",
      "File \u001b[0;32m<class 'networkx.utils.decorators.argmap'> compilation 8:4\u001b[0m, in \u001b[0;36margmap__sparse_fruchterman_reingold_5\u001b[0;34m(A, k, pos, fixed, iterations, threshold, dim, seed)\u001b[0m\n\u001b[1;32m      2\u001b[0m \u001b[38;5;28;01mimport\u001b[39;00m \u001b[38;5;21;01mcollections\u001b[39;00m\n\u001b[1;32m      3\u001b[0m \u001b[38;5;28;01mimport\u001b[39;00m \u001b[38;5;21;01mgzip\u001b[39;00m\n\u001b[0;32m----> 4\u001b[0m \u001b[38;5;28;01mimport\u001b[39;00m \u001b[38;5;21;01minspect\u001b[39;00m\n\u001b[1;32m      5\u001b[0m \u001b[38;5;28;01mimport\u001b[39;00m \u001b[38;5;21;01mitertools\u001b[39;00m\n\u001b[1;32m      6\u001b[0m \u001b[38;5;28;01mimport\u001b[39;00m \u001b[38;5;21;01mre\u001b[39;00m\n",
      "File \u001b[0;32m/opt/homebrew/lib/python3.9/site-packages/networkx/drawing/layout.py:624\u001b[0m, in \u001b[0;36m_sparse_fruchterman_reingold\u001b[0;34m(A, k, pos, fixed, iterations, threshold, dim, seed)\u001b[0m\n\u001b[1;32m    622\u001b[0m     Ai \u001b[38;5;241m=\u001b[39m A\u001b[38;5;241m.\u001b[39mgetrowview(i)\u001b[38;5;241m.\u001b[39mtoarray()  \u001b[38;5;66;03m# TODO: revisit w/ sparse 1D container\u001b[39;00m\n\u001b[1;32m    623\u001b[0m     \u001b[38;5;66;03m# displacement \"force\"\u001b[39;00m\n\u001b[0;32m--> 624\u001b[0m     displacement[:, i] \u001b[38;5;241m+\u001b[39m\u001b[38;5;241m=\u001b[39m \u001b[43m(\u001b[49m\n\u001b[1;32m    625\u001b[0m \u001b[43m        \u001b[49m\u001b[43mdelta\u001b[49m\u001b[43m \u001b[49m\u001b[38;5;241;43m*\u001b[39;49m\u001b[43m \u001b[49m\u001b[43m(\u001b[49m\u001b[43mk\u001b[49m\u001b[43m \u001b[49m\u001b[38;5;241;43m*\u001b[39;49m\u001b[43m \u001b[49m\u001b[43mk\u001b[49m\u001b[43m \u001b[49m\u001b[38;5;241;43m/\u001b[39;49m\u001b[43m \u001b[49m\u001b[43mdistance\u001b[49m\u001b[38;5;241;43m*\u001b[39;49m\u001b[38;5;241;43m*\u001b[39;49m\u001b[38;5;241;43m2\u001b[39;49m\u001b[43m \u001b[49m\u001b[38;5;241;43m-\u001b[39;49m\u001b[43m \u001b[49m\u001b[43mAi\u001b[49m\u001b[43m \u001b[49m\u001b[38;5;241;43m*\u001b[39;49m\u001b[43m \u001b[49m\u001b[43mdistance\u001b[49m\u001b[43m \u001b[49m\u001b[38;5;241;43m/\u001b[39;49m\u001b[43m \u001b[49m\u001b[43mk\u001b[49m\u001b[43m)\u001b[49m\n\u001b[1;32m    626\u001b[0m \u001b[43m    \u001b[49m\u001b[43m)\u001b[49m\u001b[38;5;241;43m.\u001b[39;49m\u001b[43msum\u001b[49m\u001b[43m(\u001b[49m\u001b[43maxis\u001b[49m\u001b[38;5;241;43m=\u001b[39;49m\u001b[38;5;241;43m1\u001b[39;49m\u001b[43m)\u001b[49m\n\u001b[1;32m    627\u001b[0m \u001b[38;5;66;03m# update positions\u001b[39;00m\n\u001b[1;32m    628\u001b[0m length \u001b[38;5;241m=\u001b[39m np\u001b[38;5;241m.\u001b[39msqrt((displacement\u001b[38;5;241m*\u001b[39m\u001b[38;5;241m*\u001b[39m\u001b[38;5;241m2\u001b[39m)\u001b[38;5;241m.\u001b[39msum(axis\u001b[38;5;241m=\u001b[39m\u001b[38;5;241m0\u001b[39m))\n",
      "File \u001b[0;32m/opt/homebrew/lib/python3.9/site-packages/numpy/core/_methods.py:48\u001b[0m, in \u001b[0;36m_sum\u001b[0;34m(a, axis, dtype, out, keepdims, initial, where)\u001b[0m\n\u001b[1;32m     46\u001b[0m \u001b[38;5;28;01mdef\u001b[39;00m \u001b[38;5;21m_sum\u001b[39m(a, axis\u001b[38;5;241m=\u001b[39m\u001b[38;5;28;01mNone\u001b[39;00m, dtype\u001b[38;5;241m=\u001b[39m\u001b[38;5;28;01mNone\u001b[39;00m, out\u001b[38;5;241m=\u001b[39m\u001b[38;5;28;01mNone\u001b[39;00m, keepdims\u001b[38;5;241m=\u001b[39m\u001b[38;5;28;01mFalse\u001b[39;00m,\n\u001b[1;32m     47\u001b[0m          initial\u001b[38;5;241m=\u001b[39m_NoValue, where\u001b[38;5;241m=\u001b[39m\u001b[38;5;28;01mTrue\u001b[39;00m):\n\u001b[0;32m---> 48\u001b[0m     \u001b[38;5;28;01mreturn\u001b[39;00m \u001b[43mumr_sum\u001b[49m\u001b[43m(\u001b[49m\u001b[43ma\u001b[49m\u001b[43m,\u001b[49m\u001b[43m \u001b[49m\u001b[43maxis\u001b[49m\u001b[43m,\u001b[49m\u001b[43m \u001b[49m\u001b[43mdtype\u001b[49m\u001b[43m,\u001b[49m\u001b[43m \u001b[49m\u001b[43mout\u001b[49m\u001b[43m,\u001b[49m\u001b[43m \u001b[49m\u001b[43mkeepdims\u001b[49m\u001b[43m,\u001b[49m\u001b[43m \u001b[49m\u001b[43minitial\u001b[49m\u001b[43m,\u001b[49m\u001b[43m \u001b[49m\u001b[43mwhere\u001b[49m\u001b[43m)\u001b[49m\n",
      "\u001b[0;31mKeyboardInterrupt\u001b[0m: "
     ]
    },
    {
     "data": {
      "image/png": "[encoded data removed]",
      "text/plain": [
       "<Figure size 640x480 with 1 Axes>"
      ]
     },
     "metadata": {},
     "output_type": "display_data"
    }
   ],
   "source": [
    "nx.draw(G, edge_color = ['silver']*len(G.edges()), cmap=plt.cm.tab20, node_color=community_id, node_size=10)"
   ]
  },
  {
   "cell_type": "code",
   "execution_count": 31,
   "id": "1018ab62",
   "metadata": {},
   "outputs": [],
   "source": [
    "text, cluster = [], []\n",
    "for i in partition.items():\n",
    "    text.append(i[0])\n",
    "    cluster.append(i[1])\n",
    "    \n",
    "frame_clust = pd.DataFrame([pd.Series(text), pd.Series(cluster)]).transpose()\n",
    "frame_clust.columns = ['Text', 'Cluster']"
   ]
  },
  {
   "cell_type": "code",
   "execution_count": 32,
   "id": "171a315d",
   "metadata": {},
   "outputs": [
    {
     "data": {
      "text/html": [
       "<div>\n",
       "<style scoped>\n",
       "    .dataframe tbody tr th:only-of-type {\n",
       "        vertical-align: middle;\n",
       "    }\n",
       "\n",
       "    .dataframe tbody tr th {\n",
       "        vertical-align: top;\n",
       "    }\n",
       "\n",
       "    .dataframe thead th {\n",
       "        text-align: right;\n",
       "    }\n",
       "</style>\n",
       "<table border=\"1\" class=\"dataframe\">\n",
       "  <thead>\n",
       "    <tr style=\"text-align: right;\">\n",
       "      <th></th>\n",
       "      <th>Text</th>\n",
       "      <th>Cluster</th>\n",
       "    </tr>\n",
       "  </thead>\n",
       "  <tbody>\n",
       "    <tr>\n",
       "      <th>0</th>\n",
       "      <td></td>\n",
       "      <td>0</td>\n",
       "    </tr>\n",
       "    <tr>\n",
       "      <th>1</th>\n",
       "      <td>bastos nang bayhana murag kinsa xa lang namn v...</td>\n",
       "      <td>1</td>\n",
       "    </tr>\n",
       "    <tr>\n",
       "      <th>2</th>\n",
       "      <td>happen human right lawyer become monster suppr...</td>\n",
       "      <td>2</td>\n",
       "    </tr>\n",
       "    <tr>\n",
       "      <th>3</th>\n",
       "      <td>pwede manghingi</td>\n",
       "      <td>3</td>\n",
       "    </tr>\n",
       "    <tr>\n",
       "      <th>4</th>\n",
       "      <td>hahahhahaha</td>\n",
       "      <td>4</td>\n",
       "    </tr>\n",
       "    <tr>\n",
       "      <th>...</th>\n",
       "      <td>...</td>\n",
       "      <td>...</td>\n",
       "    </tr>\n",
       "    <tr>\n",
       "      <th>33878</th>\n",
       "      <td>nagpapapansin lang pia yan maitutulong gov yan...</td>\n",
       "      <td>34</td>\n",
       "    </tr>\n",
       "    <tr>\n",
       "      <th>33879</th>\n",
       "      <td>lorelei devine</td>\n",
       "      <td>47</td>\n",
       "    </tr>\n",
       "    <tr>\n",
       "      <th>33880</th>\n",
       "      <td>pia ranada rappler nakatikim kay harry roque k...</td>\n",
       "      <td>33</td>\n",
       "    </tr>\n",
       "    <tr>\n",
       "      <th>33881</th>\n",
       "      <td>korek sir ban 4ever</td>\n",
       "      <td>9</td>\n",
       "    </tr>\n",
       "    <tr>\n",
       "      <th>33882</th>\n",
       "      <td>yabang talaga media</td>\n",
       "      <td>31</td>\n",
       "    </tr>\n",
       "  </tbody>\n",
       "</table>\n",
       "<p>33883 rows × 2 columns</p>\n",
       "</div>"
      ],
      "text/plain": [
       "                                                    Text Cluster\n",
       "0                                                              0\n",
       "1      bastos nang bayhana murag kinsa xa lang namn v...       1\n",
       "2      happen human right lawyer become monster suppr...       2\n",
       "3                                        pwede manghingi       3\n",
       "4                                            hahahhahaha       4\n",
       "...                                                  ...     ...\n",
       "33878  nagpapapansin lang pia yan maitutulong gov yan...      34\n",
       "33879                                     lorelei devine      47\n",
       "33880  pia ranada rappler nakatikim kay harry roque k...      33\n",
       "33881                                korek sir ban 4ever       9\n",
       "33882                                yabang talaga media      31\n",
       "\n",
       "[33883 rows x 2 columns]"
      ]
     },
     "execution_count": 32,
     "metadata": {},
     "output_type": "execute_result"
    }
   ],
   "source": [
    "frame_clust"
   ]
  },
  {
   "cell_type": "code",
   "execution_count": null,
   "id": "c447b638",
   "metadata": {},
   "outputs": [],
   "source": []
  }
 ],
 "metadata": {
  "kernelspec": {
   "display_name": "Python 3 (ipykernel)",
   "language": "python",
   "name": "python3"
  },
  "language_info": {
   "codemirror_mode": {
    "name": "ipython",
    "version": 3
   },
   "file_extension": ".py",
   "mimetype": "text/x-python",
   "name": "python",
   "nbconvert_exporter": "python",
   "pygments_lexer": "ipython3",
   "version": "3.9.16"
  }
 },
 "nbformat": 4,
 "nbformat_minor": 5
}
